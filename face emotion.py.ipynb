{
 "cells": [
  {
   "cell_type": "code",
   "execution_count": 9,
   "id": "f8ab128b",
   "metadata": {},
   "outputs": [
    {
     "ename": "ImportError",
     "evalue": "cannot import name 'get_lables' from 'inference' (C:\\Users\\HP\\AppData\\Roaming\\Python\\Python39\\site-packages\\inference\\__init__.py)",
     "output_type": "error",
     "traceback": [
      "\u001b[1;31m---------------------------------------------------------------------------\u001b[0m",
      "\u001b[1;31mImportError\u001b[0m                               Traceback (most recent call last)",
      "\u001b[1;32m~\\AppData\\Local\\Temp/ipykernel_11184/1943590436.py\u001b[0m in \u001b[0;36m<module>\u001b[1;34m\u001b[0m\n\u001b[0;32m      7\u001b[0m \u001b[1;33m\u001b[0m\u001b[0m\n\u001b[0;32m      8\u001b[0m \u001b[1;32mimport\u001b[0m \u001b[0mdatasets\u001b[0m\u001b[1;33m\u001b[0m\u001b[1;33m\u001b[0m\u001b[0m\n\u001b[1;32m----> 9\u001b[1;33m \u001b[1;32mfrom\u001b[0m \u001b[0minference\u001b[0m \u001b[1;32mimport\u001b[0m \u001b[0mget_lables\u001b[0m\u001b[1;33m\u001b[0m\u001b[1;33m\u001b[0m\u001b[0m\n\u001b[0m\u001b[0;32m     10\u001b[0m \u001b[1;32mfrom\u001b[0m \u001b[0minference\u001b[0m \u001b[1;32mimport\u001b[0m \u001b[0mdetect_faces\u001b[0m\u001b[1;33m\u001b[0m\u001b[1;33m\u001b[0m\u001b[0m\n\u001b[0;32m     11\u001b[0m \u001b[1;32mfrom\u001b[0m \u001b[0minference\u001b[0m \u001b[1;32mimport\u001b[0m \u001b[0mdraw_text\u001b[0m\u001b[1;33m\u001b[0m\u001b[1;33m\u001b[0m\u001b[0m\n",
      "\u001b[1;31mImportError\u001b[0m: cannot import name 'get_lables' from 'inference' (C:\\Users\\HP\\AppData\\Roaming\\Python\\Python39\\site-packages\\inference\\__init__.py)"
     ]
    }
   ],
   "source": [
    "from statistics import mode\n",
    "import os\n",
    "import cv2\n",
    "from keras.models import load_model\n",
    "import numpy as np\n",
    "import face_classification\n",
    "\n",
    "import datasets\n",
    "from inference import get_lables\n",
    "from inference import detect_faces\n",
    "from inference import draw_text\n",
    "from inference import draw_bounding_box\n",
    "from inference import apply_offsets\n",
    "from inference import load_detection_model\n",
    "from preprocessor import preprocess_input\n",
    "\n",
    "# parameters for loading data and images\n",
    "detection_model_path = 'detection_models/haarcascade_frontalface_default.xml'\n",
    "emotion_model_path = 'emotion_models/fer2013_mini_XCEPTION.102-0.66.hdf5'\n",
    "emotion_labels = get_labels('fer2013')\n",
    "\n",
    "# hyper-parameters for bounding boxes shape\n",
    "frame_window = 10\n",
    "emotion_offsets = (20, 40)\n",
    "\n",
    "# loading models\n",
    "face_detection = load_detection_model(detection_model_path)\n",
    "emotion_classifier = load_model(emotion_model_path, compile=False)\n",
    "\n",
    "# getting input model shapes for inference\n",
    "emotion_target_size = emotion_classifier.input_shape[1:3]\n",
    "\n",
    "# starting lists for calculating modes\n",
    "emotion_window = []\n",
    "\n",
    "# starting video streaming\n",
    "cv2.namedWindow('window_frame')\n",
    "video_capture = cv2.VideoCapture(0)\n",
    "while True:\n",
    "    bgr_image = video_capture.read()[1]\n",
    "    gray_image = cv2.cvtColor(bgr_image, cv2.COLOR_BGR2GRAY)\n",
    "    rgb_image = cv2.cvtColor(bgr_image, cv2.COLOR_BGR2RGB)\n",
    "    faces = detect_faces(face_detection, gray_image)\n",
    "\n",
    "    for face_coordinates in faces:\n",
    "\n",
    "        x1, x2, y1, y2 = apply_offsets(face_coordinates, emotion_offsets)\n",
    "        gray_face = gray_image[y1:y2, x1:x2]\n",
    "        try:\n",
    "            gray_face = cv2.resize(gray_face, (emotion_target_size))\n",
    "        except:\n",
    "            continue\n",
    "\n",
    "        gray_face = preprocess_input(gray_face, True)\n",
    "        gray_face = np.expand_dims(gray_face, 0)\n",
    "        gray_face = np.expand_dims(gray_face, -1)\n",
    "        emotion_prediction = emotion_classifier.predict(gray_face)\n",
    "        emotion_probability = np.max(emotion_prediction)\n",
    "        emotion_label_arg = np.argmax(emotion_prediction)\n",
    "        emotion_text = emotion_labels[emotion_label_arg]\n",
    "        emotion_window.append(emotion_text)\n",
    "\n",
    "        if len(emotion_window) > frame_window:\n",
    "            emotion_window.pop(0)\n",
    "        try:\n",
    "            emotion_mode = mode(emotion_window)\n",
    "        except:\n",
    "            continue\n",
    "        #Below lines of code is to color the bounding boxes for different emotions\n",
    "        if emotion_text == 'angry':\n",
    "            color = emotion_probability * np.asarray((255, 0, 0))\n",
    "        elif emotion_text == 'sad':\n",
    "            color = emotion_probability * np.asarray((0, 0, 255))\n",
    "        elif emotion_text == 'happy':\n",
    "            color = emotion_probability * np.asarray((255, 255, 0))\n",
    "        elif emotion_text == 'surprise':\n",
    "            color = emotion_probability * np.asarray((0, 255, 255))\n",
    "        else:\n",
    "            color = emotion_probability * np.asarray((0, 255, 0))\n",
    "\n",
    "        color = color.astype(int)\n",
    "        color = color.tolist()\n",
    "\n",
    "        draw_bounding_box(face_coordinates, rgb_image, color)\n",
    "        draw_text(face_coordinates, rgb_image, emotion_mode,\n",
    "                  color, 0, -45, 1, 1)\n",
    "    #Press Esc to exit from the program\n",
    "    bgr_image = cv2.cvtColor(rgb_image, cv2.COLOR_RGB2BGR)\n",
    "    cv2.imshow('window_frame', bgr_image)\n",
    "    if cv2.waitKey(1) & 0xFF == ord('q'):\n",
    "        break\n"
   ]
  },
  {
   "cell_type": "code",
   "execution_count": 7,
   "id": "c6249097",
   "metadata": {},
   "outputs": [
    {
     "name": "stdout",
     "output_type": "stream",
     "text": [
      "Defaulting to user installation because normal site-packages is not writeable\n",
      "Collecting inference-tools\n",
      "  Downloading inference_tools-0.7.1-py3-none-any.whl (55 kB)\n",
      "     -------------------------------------- 56.0/56.0 KB 225.2 kB/s eta 0:00:00\n",
      "Requirement already satisfied: scipy>=1.6.3 in c:\\users\\hp\\appdata\\roaming\\python\\python39\\site-packages (from inference-tools) (1.7.3)\n",
      "Requirement already satisfied: numpy>=1.8 in c:\\users\\hp\\appdata\\roaming\\python\\python39\\site-packages (from inference-tools) (1.21.2)\n",
      "Collecting matplotlib>=3.4.2\n",
      "  Downloading matplotlib-3.5.1-cp39-cp39-win_amd64.whl (7.2 MB)\n",
      "     ---------------------------------------- 7.2/7.2 MB 1.0 MB/s eta 0:00:00\n",
      "Requirement already satisfied: python-dateutil>=2.7 in c:\\users\\hp\\appdata\\roaming\\python\\python39\\site-packages (from matplotlib>=3.4.2->inference-tools) (2.8.2)\n",
      "Collecting fonttools>=4.22.0\n",
      "  Downloading fonttools-4.29.1-py3-none-any.whl (895 kB)\n",
      "     -------------------------------------- 895.5/895.5 KB 1.7 MB/s eta 0:00:00\n",
      "Requirement already satisfied: cycler>=0.10 in c:\\users\\hp\\appdata\\roaming\\python\\python39\\site-packages (from matplotlib>=3.4.2->inference-tools) (0.11.0)\n",
      "Requirement already satisfied: pyparsing>=2.2.1 in c:\\users\\hp\\appdata\\roaming\\python\\python39\\site-packages (from matplotlib>=3.4.2->inference-tools) (2.4.7)\n",
      "Requirement already satisfied: packaging>=20.0 in c:\\users\\hp\\appdata\\roaming\\python\\python39\\site-packages (from matplotlib>=3.4.2->inference-tools) (21.2)\n",
      "Requirement already satisfied: kiwisolver>=1.0.1 in c:\\users\\hp\\appdata\\roaming\\python\\python39\\site-packages (from matplotlib>=3.4.2->inference-tools) (1.3.2)\n",
      "Requirement already satisfied: pillow>=6.2.0 in c:\\users\\hp\\appdata\\roaming\\python\\python39\\site-packages (from matplotlib>=3.4.2->inference-tools) (8.3.2)\n",
      "Requirement already satisfied: six>=1.5 in c:\\users\\hp\\appdata\\roaming\\python\\python39\\site-packages (from python-dateutil>=2.7->matplotlib>=3.4.2->inference-tools) (1.16.0)\n",
      "Installing collected packages: fonttools, matplotlib, inference-tools\n",
      "  Attempting uninstall: matplotlib\n",
      "    Found existing installation: matplotlib 3.2.2\n",
      "    Uninstalling matplotlib-3.2.2:\n",
      "      Successfully uninstalled matplotlib-3.2.2\n",
      "Successfully installed fonttools-4.29.1 inference-tools-0.7.1 matplotlib-3.5.1\n"
     ]
    },
    {
     "name": "stderr",
     "output_type": "stream",
     "text": [
      "  WARNING: The scripts fonttools.exe, pyftmerge.exe, pyftsubset.exe and ttx.exe are installed in 'C:\\Users\\HP\\AppData\\Roaming\\Python\\Python39\\Scripts' which is not on PATH.\n",
      "  Consider adding this directory to PATH or, if you prefer to suppress this warning, use --no-warn-script-location.\n",
      "ERROR: pip's dependency resolver does not currently take into account all the packages that are installed. This behaviour is the source of the following dependency conflicts.\n",
      "labelme 4.6.0 requires matplotlib<3.3, but you have matplotlib 3.5.1 which is incompatible.\n"
     ]
    }
   ],
   "source": [
    "!pip install inference-tools"
   ]
  },
  {
   "cell_type": "code",
   "execution_count": null,
   "id": "e8d69c28",
   "metadata": {},
   "outputs": [],
   "source": []
  }
 ],
 "metadata": {
  "kernelspec": {
   "display_name": "Python 3 (ipykernel)",
   "language": "python",
   "name": "python3"
  },
  "language_info": {
   "codemirror_mode": {
    "name": "ipython",
    "version": 3
   },
   "file_extension": ".py",
   "mimetype": "text/x-python",
   "name": "python",
   "nbconvert_exporter": "python",
   "pygments_lexer": "ipython3",
   "version": "3.9.6"
  }
 },
 "nbformat": 4,
 "nbformat_minor": 5
}
